{
 "cells": [
  {
   "cell_type": "markdown",
   "metadata": {},
   "source": [
    "# *使用sqlite3共享内存*\n",
    "\n",
    "多进程程序往往碰到一个问题--数据共享问题.这也是本文的主题."
   ]
  },
  {
   "cell_type": "markdown",
   "metadata": {},
   "source": [
    "## 简单介绍sqlite3\n",
    "\n",
    "sqlite3是一个非常伟大的关系型数据库,可能很多人不太熟悉.人言关系型数据库一般都是mysql,MS Sqlserver,Oracle,但其实sqlite同样是非常出色的关系型数据库.\n",
    "\n",
    "从代码的角度讲,sqlite堪称教科书般的C语言编程示例(一般也是作为学习C语言的参考代码).\n",
    "\n",
    "从性能角度讲,sqlite因为是基于磁盘io的,所以基于socket的数据库性能与他完全不能相比.它更有内存模式,比起磁盘模式更加快速.\n",
    "\n",
    "从用途来讲,sqlite3编译后非常小,可以放入资源十分有限的嵌入式设备中,光这一点其他数据库就无法做到.在追求高时效性的任务中可以使用内存模式当作内存数据库使用.\n",
    "\n",
    "从使用范围来讲,只要是嵌入式设备,包括手机,一些物联网终端在内,都有使用.它不光可以用在服务器上也可以用在客户端作为缓存.连html5都有对其的阉割支持(虽然已经被废弃).\n",
    "\n",
    "sqlite最大的缺点同样来自于它基于磁盘而非socket.这一特点让它不适合作为数据存储的中心节点.不过sqlite3非常适合微服务架构,因为它是自治的,并且利于迁移(一个文件拷贝走就是了),如果项目的数据增量比较可控,并且对实时性有较高要求完全可以使用sqlite3.\n",
    "\n",
    "python的标准库中内置了sqlite3支持.基本上只要装了python就可以使用sqlite3.并且,sqlite3使用的是python通用的数据库接口设计,一通百通,会用它就会用其他的数据库接口"
   ]
  },
  {
   "cell_type": "markdown",
   "metadata": {},
   "source": [
    "### 连接数据库 "
   ]
  },
  {
   "cell_type": "code",
   "execution_count": 1,
   "metadata": {},
   "outputs": [],
   "source": [
    "import sqlite3\n",
    "conn = sqlite3.connect('test.db')"
   ]
  },
  {
   "cell_type": "markdown",
   "metadata": {},
   "source": [
    "### 创建表格\n",
    "\n",
    "数据库的操作使用游标(cursor)实现.游标对象有`execute`方法用来将sql语句输入到连接中,之后再调用连接的`commit`方法将sql语句上传到数据库进行操作."
   ]
  },
  {
   "cell_type": "code",
   "execution_count": 2,
   "metadata": {},
   "outputs": [
    {
     "name": "stderr",
     "output_type": "stream",
     "text": [
      "ERROR:root:An unexpected error occurred while tokenizing input\n",
      "The following traceback may be corrupted or invalid\n",
      "The error message is: ('EOF in multi-line string', (1, 28))\n",
      "\n"
     ]
    },
    {
     "ename": "OperationalError",
     "evalue": "table COMPANY already exists",
     "output_type": "error",
     "traceback": [
      "\u001b[0;31m---------------------------------------------------------------------------\u001b[0m",
      "\u001b[0;31mOperationalError\u001b[0m                          Traceback (most recent call last)",
      "\u001b[0;32m<ipython-input-2-7cfdecf5965e>\u001b[0m in \u001b[0;36m<module>\u001b[0;34m()\u001b[0m\n\u001b[1;32m      5\u001b[0m        \u001b[0mAGE\u001b[0m            \u001b[0mINT\u001b[0m     \u001b[0mNOT\u001b[0m \u001b[0mNULL\u001b[0m\u001b[0;34m,\u001b[0m\u001b[0;34m\u001b[0m\u001b[0m\n\u001b[1;32m      6\u001b[0m        \u001b[0mADDRESS\u001b[0m        \u001b[0mCHAR\u001b[0m\u001b[0;34m(\u001b[0m\u001b[0;36m50\u001b[0m\u001b[0;34m)\u001b[0m\u001b[0;34m,\u001b[0m\u001b[0;34m\u001b[0m\u001b[0m\n\u001b[0;32m----> 7\u001b[0;31m        SALARY         REAL);''')\n\u001b[0m\u001b[1;32m      8\u001b[0m \u001b[0mconn\u001b[0m\u001b[0;34m.\u001b[0m\u001b[0mcommit\u001b[0m\u001b[0;34m(\u001b[0m\u001b[0;34m)\u001b[0m\u001b[0;34m\u001b[0m\u001b[0m\n",
      "\u001b[0;31mOperationalError\u001b[0m: table COMPANY already exists"
     ]
    }
   ],
   "source": [
    "c = conn.cursor()\n",
    "c.execute('''CREATE TABLE COMPANY\n",
    "       (ID INT PRIMARY KEY     NOT NULL,\n",
    "       NAME           TEXT    NOT NULL,\n",
    "       AGE            INT     NOT NULL,\n",
    "       ADDRESS        CHAR(50),\n",
    "       SALARY         REAL);''')\n",
    "conn.commit()"
   ]
  },
  {
   "cell_type": "markdown",
   "metadata": {},
   "source": [
    "### 插入数据"
   ]
  },
  {
   "cell_type": "code",
   "execution_count": 3,
   "metadata": {},
   "outputs": [
    {
     "ename": "IntegrityError",
     "evalue": "UNIQUE constraint failed: COMPANY.ID",
     "output_type": "error",
     "traceback": [
      "\u001b[0;31m---------------------------------------------------------------------------\u001b[0m",
      "\u001b[0;31mIntegrityError\u001b[0m                            Traceback (most recent call last)",
      "\u001b[0;32m<ipython-input-3-4b2d5a4661cd>\u001b[0m in \u001b[0;36m<module>\u001b[0;34m()\u001b[0m\n\u001b[1;32m      1\u001b[0m \u001b[0mc\u001b[0m \u001b[0;34m=\u001b[0m \u001b[0mconn\u001b[0m\u001b[0;34m.\u001b[0m\u001b[0mcursor\u001b[0m\u001b[0;34m(\u001b[0m\u001b[0;34m)\u001b[0m\u001b[0;34m\u001b[0m\u001b[0m\n\u001b[1;32m      2\u001b[0m \u001b[0;34m\u001b[0m\u001b[0m\n\u001b[0;32m----> 3\u001b[0;31m \u001b[0mc\u001b[0m\u001b[0;34m.\u001b[0m\u001b[0mexecute\u001b[0m\u001b[0;34m(\u001b[0m\u001b[0;34m\"INSERT INTO COMPANY (ID,NAME,AGE,ADDRESS,SALARY)       VALUES (1, 'Paul', 32, 'California', 20000.00 )\"\u001b[0m\u001b[0;34m)\u001b[0m\u001b[0;34m;\u001b[0m\u001b[0;34m\u001b[0m\u001b[0m\n\u001b[0m\u001b[1;32m      4\u001b[0m \u001b[0;34m\u001b[0m\u001b[0m\n\u001b[1;32m      5\u001b[0m \u001b[0mc\u001b[0m\u001b[0;34m.\u001b[0m\u001b[0mexecute\u001b[0m\u001b[0;34m(\u001b[0m\u001b[0;34m\"INSERT INTO COMPANY (ID,NAME,AGE,ADDRESS,SALARY)       VALUES (2, 'Allen', 25, 'Texas', 15000.00 )\"\u001b[0m\u001b[0;34m)\u001b[0m\u001b[0;34m;\u001b[0m\u001b[0;34m\u001b[0m\u001b[0m\n",
      "\u001b[0;31mIntegrityError\u001b[0m: UNIQUE constraint failed: COMPANY.ID"
     ]
    }
   ],
   "source": [
    "c = conn.cursor()\n",
    "\n",
    "c.execute(\"INSERT INTO COMPANY (ID,NAME,AGE,ADDRESS,SALARY) \\\n",
    "      VALUES (1, 'Paul', 32, 'California', 20000.00 )\");\n",
    "\n",
    "c.execute(\"INSERT INTO COMPANY (ID,NAME,AGE,ADDRESS,SALARY) \\\n",
    "      VALUES (2, 'Allen', 25, 'Texas', 15000.00 )\");\n",
    "\n",
    "c.execute(\"INSERT INTO COMPANY (ID,NAME,AGE,ADDRESS,SALARY) \\\n",
    "      VALUES (3, 'Teddy', 23, 'Norway', 20000.00 )\");\n",
    "\n",
    "c.execute(\"INSERT INTO COMPANY (ID,NAME,AGE,ADDRESS,SALARY) \\\n",
    "      VALUES (4, 'Mark', 25, 'Rich-Mond ', 65000.00 )\");\n",
    "\n",
    "conn.commit()"
   ]
  },
  {
   "cell_type": "markdown",
   "metadata": {},
   "source": [
    "### 查询"
   ]
  },
  {
   "cell_type": "code",
   "execution_count": 4,
   "metadata": {},
   "outputs": [
    {
     "name": "stdout",
     "output_type": "stream",
     "text": [
      "ID =  1\n",
      "NAME =  Paul\n",
      "ADDRESS =  California\n",
      "SALARY =  25000.0 \n",
      "\n",
      "ID =  3\n",
      "NAME =  Teddy\n",
      "ADDRESS =  Norway\n",
      "SALARY =  20000.0 \n",
      "\n",
      "ID =  4\n",
      "NAME =  Mark\n",
      "ADDRESS =  Rich-Mond \n",
      "SALARY =  65000.0 \n",
      "\n"
     ]
    }
   ],
   "source": [
    "c = conn.cursor()\n",
    "\n",
    "cursor = c.execute(\"SELECT id, name, address, salary  from COMPANY\")\n",
    "for row in cursor:\n",
    "    print(\"ID = \", row[0])\n",
    "    print(\"NAME = \", row[1])\n",
    "    print(\"ADDRESS = \", row[2])\n",
    "    print(\"SALARY = \", row[3], \"\\n\")\n"
   ]
  },
  {
   "cell_type": "markdown",
   "metadata": {},
   "source": [
    "### 更新"
   ]
  },
  {
   "cell_type": "code",
   "execution_count": 5,
   "metadata": {},
   "outputs": [
    {
     "name": "stdout",
     "output_type": "stream",
     "text": [
      "Total number of rows updated : 1\n",
      "ID =  1\n",
      "NAME =  Paul\n",
      "ADDRESS =  California\n",
      "SALARY =  25000.0 \n",
      "\n",
      "ID =  3\n",
      "NAME =  Teddy\n",
      "ADDRESS =  Norway\n",
      "SALARY =  20000.0 \n",
      "\n",
      "ID =  4\n",
      "NAME =  Mark\n",
      "ADDRESS =  Rich-Mond \n",
      "SALARY =  65000.0 \n",
      "\n"
     ]
    }
   ],
   "source": [
    "c = conn.cursor()\n",
    "\n",
    "\n",
    "c.execute(\"UPDATE COMPANY set SALARY = 25000.00 where ID=1\")\n",
    "conn.commit()\n",
    "print(\"Total number of rows updated :\", conn.total_changes)\n",
    "\n",
    "cursor = conn.execute(\"SELECT id, name, address, salary  from COMPANY\")\n",
    "for row in cursor:\n",
    "    print(\"ID = \", row[0])\n",
    "    print(\"NAME = \", row[1])\n",
    "    print(\"ADDRESS = \", row[2])\n",
    "    print(\"SALARY = \", row[3], \"\\n\")\n"
   ]
  },
  {
   "cell_type": "markdown",
   "metadata": {},
   "source": [
    "### 替换"
   ]
  },
  {
   "cell_type": "code",
   "execution_count": 6,
   "metadata": {},
   "outputs": [
    {
     "name": "stdout",
     "output_type": "stream",
     "text": [
      "Total number of rows updated : 2\n",
      "ID =  1\n",
      "NAME =  Paul\n",
      "ADDRESS =  California\n",
      "SALARY =  25000.0 \n",
      "\n",
      "ID =  3\n",
      "NAME =  Teddy\n",
      "ADDRESS =  Norway\n",
      "SALARY =  20000.0 \n",
      "\n",
      "ID =  4\n",
      "NAME =  Mark\n",
      "ADDRESS =  Rich-Mond \n",
      "SALARY =  65000.0 \n",
      "\n",
      "ID =  2\n",
      "NAME =  Allen\n",
      "ADDRESS =  123456@qq.com\n",
      "SALARY =  16000.0 \n",
      "\n"
     ]
    }
   ],
   "source": [
    "c = conn.cursor()\n",
    "\n",
    "c.execute(\"REPLACE INTO COMPANY (ID, NAME, AGE, ADDRESS, SALARY) VALUES ('2', 'Allen', 'Texas', '123456@qq.com', 16000.0 );\")\n",
    "conn.commit()\n",
    "print(\"Total number of rows updated :\", conn.total_changes)\n",
    "\n",
    "cursor = conn.execute(\"SELECT id, name, address, salary  from COMPANY\")\n",
    "for row in cursor:\n",
    "    print(\"ID = \", row[0])\n",
    "    print(\"NAME = \", row[1])\n",
    "    print(\"ADDRESS = \", row[2])\n",
    "    print(\"SALARY = \", row[3], \"\\n\")"
   ]
  },
  {
   "cell_type": "markdown",
   "metadata": {},
   "source": [
    "### 删除"
   ]
  },
  {
   "cell_type": "code",
   "execution_count": 7,
   "metadata": {
    "scrolled": true
   },
   "outputs": [
    {
     "name": "stdout",
     "output_type": "stream",
     "text": [
      "Total number of rows deleted : 3\n",
      "ID =  1\n",
      "NAME =  Paul\n",
      "ADDRESS =  California\n",
      "SALARY =  25000.0 \n",
      "\n",
      "ID =  3\n",
      "NAME =  Teddy\n",
      "ADDRESS =  Norway\n",
      "SALARY =  20000.0 \n",
      "\n",
      "ID =  4\n",
      "NAME =  Mark\n",
      "ADDRESS =  Rich-Mond \n",
      "SALARY =  65000.0 \n",
      "\n"
     ]
    }
   ],
   "source": [
    "c = conn.cursor()\n",
    "c.execute(\"DELETE from COMPANY where ID=2;\")\n",
    "conn.commit()\n",
    "print(\"Total number of rows deleted :\", conn.total_changes)\n",
    "\n",
    "cursor = conn.execute(\"SELECT id, name, address, salary  from COMPANY\")\n",
    "for row in cursor:\n",
    "    print(\"ID = \", row[0])\n",
    "    print(\"NAME = \", row[1])\n",
    "    print(\"ADDRESS = \", row[2])\n",
    "    print(\"SALARY = \", row[3], \"\\n\")"
   ]
  },
  {
   "cell_type": "markdown",
   "metadata": {},
   "source": [
    "### 断开连接"
   ]
  },
  {
   "cell_type": "code",
   "execution_count": 8,
   "metadata": {},
   "outputs": [],
   "source": [
    "conn.close()"
   ]
  },
  {
   "cell_type": "markdown",
   "metadata": {},
   "source": [
    "## 内存模式\n",
    "\n",
    "sqlite可以使用缓存模式,用法很简单,就是把db文件位置的字符串改为`\":memory:\"`.不过注意这种方式并不能共享内存,它相当于每个连接独立在内存中存储数据.一旦断开数据就被释放了."
   ]
  },
  {
   "cell_type": "markdown",
   "metadata": {},
   "source": [
    "## 线程安全问题\n",
    "\n",
    "\n",
    "sqlite默认是线程安全的,它在同一个时间只会有一次commit在访问数据.而其他的commit则在外面被阻塞着.如果要去掉阻塞,可以在连接时指定`check_same_thread`为`False`.当然了,这样的话线程安全就得手工管理了."
   ]
  },
  {
   "cell_type": "markdown",
   "metadata": {},
   "source": [
    "## 缓存模式用于多线程\n",
    "\n",
    "如果要让内存用于多线程,那么就要共享缓存.python的sqlite3接口没有对应的参数.但3.4新增的参数`uri`可以实现这个功能"
   ]
  },
  {
   "cell_type": "markdown",
   "metadata": {},
   "source": [
    "### 不同连接使用内存数据库的示例 (来自stack overflow)\n",
    "\n",
    "可以看到db1和db2连接的是同一个名字的数据库`foobar_database`.他们一个创建表一个插入数据.最终都可以访问到."
   ]
  },
  {
   "cell_type": "code",
   "execution_count": 9,
   "metadata": {},
   "outputs": [
    {
     "name": "stdout",
     "output_type": "stream",
     "text": [
      "42\n",
      "42\n",
      "no such table: foo\n"
     ]
    }
   ],
   "source": [
    "import sqlite3\n",
    "\n",
    "foobar_uri = 'file:foobar_database?mode=memory&cache=shared'\n",
    "not_really_foobar_uri = 'file:not_really_foobar?mode=memory&cache=shared'\n",
    "\n",
    "# connect to databases in no particular order\n",
    "db2 = sqlite3.connect(foobar_uri, uri=True)\n",
    "db_lol = sqlite3.connect(not_really_foobar_uri, uri=True)\n",
    "db1 = sqlite3.connect(foobar_uri, uri=True)\n",
    "\n",
    "# create cursor as db2\n",
    "cur2 = db2.cursor()\n",
    "cur1 = db1.cursor()\n",
    "# create table as db2\n",
    "db2.execute('CREATE TABLE foo (NUMBER bar)')\n",
    "\n",
    "# insert values as db1\n",
    "db1.execute('INSERT INTO foo VALUES (42)')\n",
    "db1.commit()\n",
    "\n",
    "# and fetch them from db2 through cur2\n",
    "cur2.execute('SELECT * FROM foo')\n",
    "print(cur2.fetchone()[0])  # 42\n",
    "cur1.execute('SELECT * FROM foo')\n",
    "print(cur1.fetchone()[0])  # 42\n",
    "# test that db_lol is not shared with db1 and db2\n",
    "try:\n",
    "    db_lol.cursor().execute('SELECT * FROM foo')\n",
    "except sqlite3.OperationalError as exc:\n",
    "    print(exc)  # just as expected\n",
    "    \n",
    "db2.close()\n",
    "db1.close()"
   ]
  },
  {
   "cell_type": "code",
   "execution_count": 10,
   "metadata": {},
   "outputs": [
    {
     "data": {
      "text/plain": [
       "(3, 22, 0)"
      ]
     },
     "execution_count": 10,
     "metadata": {},
     "output_type": "execute_result"
    }
   ],
   "source": [
    "sqlite3.sqlite_version_info"
   ]
  },
  {
   "cell_type": "markdown",
   "metadata": {},
   "source": [
    "### 多线程共享内存数据库 "
   ]
  },
  {
   "cell_type": "code",
   "execution_count": 11,
   "metadata": {},
   "outputs": [
    {
     "name": "stdout",
     "output_type": "stream",
     "text": [
      "write db in write Thread\n",
      "write db done\n",
      "read db\n",
      "ID =  1\n",
      "NAME =  Paul\n",
      "ADDRESS =  California\n",
      "SALARY =  20000.0 \n",
      "\n",
      "ID =  2\n",
      "NAME =  Allen\n",
      "ADDRESS =  Texas\n",
      "SALARY =  15000.0 \n",
      "\n",
      "ID =  3\n",
      "NAME =  Teddy\n",
      "ADDRESS =  Norway\n",
      "SALARY =  20000.0 \n",
      "\n",
      "ID =  4\n",
      "NAME =  Mark\n",
      "ADDRESS =  Rich-Mond \n",
      "SALARY =  65000.0 \n",
      "\n"
     ]
    }
   ],
   "source": [
    "import os, time\n",
    "import sqlite3\n",
    "import threading\n",
    "\n",
    "\n",
    "def write(name):\n",
    "    print(\"write db in\",name)\n",
    "    import sqlite3\n",
    "    foobar_uri = 'file:foobar_database?mode=memory&cache=shared'\n",
    "    conn = sqlite3.connect(foobar_uri, uri=True)\n",
    "    c = conn.cursor()\n",
    "    c.execute(\"INSERT INTO COMPANY (ID,NAME,AGE,ADDRESS,SALARY) \\\n",
    "          VALUES (3, 'Teddy', 23, 'Norway', 20000.00 )\");\n",
    "    c.execute(\"INSERT INTO COMPANY (ID,NAME,AGE,ADDRESS,SALARY) \\\n",
    "          VALUES (4, 'Mark', 25, 'Rich-Mond ', 65000.00 )\");\n",
    "    conn.commit()\n",
    "    conn.close()\n",
    "    print(\"write db done\")\n",
    "    \n",
    "\n",
    "def main():\n",
    "    foobar_uri = 'file:foobar_database?mode=memory&cache=shared'\n",
    "    conn = sqlite3.connect(foobar_uri, uri=True)\n",
    "    c = conn.cursor()\n",
    "    c.execute('''CREATE TABLE COMPANY\n",
    "           (ID INT PRIMARY KEY     NOT NULL,\n",
    "           NAME           TEXT    NOT NULL,\n",
    "           AGE            INT     NOT NULL,\n",
    "           ADDRESS        CHAR(50),\n",
    "           SALARY         REAL);''')\n",
    "    conn.commit()\n",
    "    c = conn.cursor()\n",
    "    c.execute(\"INSERT INTO COMPANY (ID,NAME,AGE,ADDRESS,SALARY) \\\n",
    "          VALUES (1, 'Paul', 32, 'California', 20000.00 )\");\n",
    "    c.execute(\"INSERT INTO COMPANY (ID,NAME,AGE,ADDRESS,SALARY) \\\n",
    "          VALUES (2, 'Allen', 25, 'Texas', 15000.00 )\");\n",
    "    conn.commit()\n",
    "    pr = threading.Thread(target=write,args=(\"write Thread\",))\n",
    "    pr.start()\n",
    "    pr.join()\n",
    "    print(\"read db\")\n",
    "    c = conn.cursor()\n",
    "    cursor = conn.execute(\"SELECT id, name, address, salary  from COMPANY\")\n",
    "    for row in cursor:\n",
    "        print(\"ID = \", row[0])\n",
    "        print(\"NAME = \", row[1])\n",
    "        print(\"ADDRESS = \", row[2])\n",
    "        print(\"SALARY = \", row[3], \"\\n\")\n",
    "    conn.close()\n",
    "    \n",
    "main()"
   ]
  },
  {
   "cell_type": "markdown",
   "metadata": {
    "collapsed": true
   },
   "source": [
    "## sqlite3用于多进程\n",
    "\n",
    "\n",
    "sqlite3的内存模式并不支持多进程,不过如果使用linux,那么就可以简单的让sqlite3直接使用RAM而不用通过文件io.\n",
    "\n",
    "这种方式比较鸡贼.不光是sqlite,其他的文件也可以这样使用.\n",
    "\n",
    "linux中有`/dev/shm`目录,这个目录不在硬盘上而在内存上,所以如果将sqlite3的数据库文件放在这上面,那就可以像正常那样多进程使用内存中的sqlite数据库了."
   ]
  }
 ],
 "metadata": {
  "kernelspec": {
   "display_name": "Python 3",
   "language": "python",
   "name": "python3"
  },
  "language_info": {
   "codemirror_mode": {
    "name": "ipython",
    "version": 3
   },
   "file_extension": ".py",
   "mimetype": "text/x-python",
   "name": "python",
   "nbconvert_exporter": "python",
   "pygments_lexer": "ipython3",
   "version": "3.7.2"
  }
 },
 "nbformat": 4,
 "nbformat_minor": 2
}
