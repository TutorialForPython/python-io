{
 "cells": [
  {
   "cell_type": "markdown",
   "metadata": {},
   "source": [
    "# 使用Sanic构建异步的RESTful接口服务\n",
    "\n",
    "[sanic](https://github.com/huge-success/sanic)是一个基于python3.5+新特性协程的异步框架,其接口设计参照了同样受欢迎的[flask](http://flask.pocoo.org/)但它比flask更加轻量,由于协程的作用,其并发性能更强.而且并不需要借助其他http组件就可以单独运行,甚至于它还可以多进程启动.当然相对的它的生态比flask差的多,但作为一个Restful接口服务它已经很够用了,同时他也是目前最成熟的python异步接口的http框架.\n",
    "\n",
    "## helloworld\n",
    "\n",
    "我们依然从一个[helloworld]()开始.\n",
    "\n",
    "RESTful接口基于HTTP的METHOD,因此我们也常用MethodView构造基于METHOD的接口\n",
    "\n",
    "这种应用构造的过程就是:\n",
    "\n",
    "使用Flask(__name__)创建一个应用实例\n",
    "继承MethodView构造一个对应RESTful概念中RESOURCE的视图类\n",
    "通过调用视图类的方法.as_view(view_name:str)将视图类转化为一个视图对象\n",
    "调用应用实例的.add_url_rule(url:str, view_func=视图对象)方法将视图对象注册到应用实例对应的url下\n",
    "app.py\n"
   ]
  }
 ],
 "metadata": {
  "kernelspec": {
   "display_name": "Python 3",
   "language": "python",
   "name": "python3"
  },
  "language_info": {
   "codemirror_mode": {
    "name": "ipython",
    "version": 3
   },
   "file_extension": ".py",
   "mimetype": "text/x-python",
   "name": "python",
   "nbconvert_exporter": "python",
   "pygments_lexer": "ipython3",
   "version": "3.7.2"
  }
 },
 "nbformat": 4,
 "nbformat_minor": 2
}
